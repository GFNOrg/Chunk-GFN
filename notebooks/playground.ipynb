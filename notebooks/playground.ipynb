{
 "cells": [
  {
   "cell_type": "code",
   "execution_count": 2,
   "metadata": {},
   "outputs": [],
   "source": [
    "import numpy as np\n",
    "import matplotlib.pyplot as plt\n",
    "from polyleven import levenshtein"
   ]
  },
  {
   "cell_type": "code",
   "execution_count": 3,
   "metadata": {},
   "outputs": [],
   "source": [
    "def sample_trajs(actions, n):\n",
    "    '''\n",
    "    Sample all possible trajectories of length n from a set of actions.\n",
    "    '''\n",
    "    trajs= [[]]\n",
    "    done=False\n",
    "    while not done:\n",
    "        new_trajs = []\n",
    "        for traj in trajs:\n",
    "            if len(''.join(traj)) < n:\n",
    "                for action in actions:\n",
    "                    if len(''.join(traj)+action) <= n:\n",
    "                        new_trajs.append(traj+[action])\n",
    "            else:\n",
    "                new_trajs.append(traj) \n",
    "        trajs = new_trajs\n",
    "        done = all(len(''.join(traj)) == n for traj in trajs)\n",
    "    if done:\n",
    "        return trajs"
   ]
  },
  {
   "cell_type": "code",
   "execution_count": 4,
   "metadata": {},
   "outputs": [],
   "source": [
    "def get_logrewards(trajs, sequence):\n",
    "    rews=[]\n",
    "    for traj in trajs:\n",
    "        seq = ''.join(traj)\n",
    "        rews.append(-levenshtein(seq, sequence))\n",
    "    return rews\n"
   ]
  },
  {
   "cell_type": "code",
   "execution_count": 5,
   "metadata": {},
   "outputs": [
    {
     "name": "stdout",
     "output_type": "stream",
     "text": [
      "mean atomic logrew -6.538718969097698 mean chunk logrew -6.442739543196164\n"
     ]
    },
    {
     "data": {
      "image/png": "[encoded data removed]",
      "text/plain": [
       "<Figure size 640x480 with 1 Axes>"
      ]
     },
     "metadata": {},
     "output_type": "display_data"
    }
   ],
   "source": [
    "sequence='abcdefgh'\n",
    "n=len(sequence)\n",
    "atomic_actions = [ 'a','b','c' , 'd', 'e', 'f' ]\n",
    "actions = atomic_actions +   ['ab','cd','ef']\n",
    "atomic_trajs = sample_trajs(atomic_actions, n)\n",
    "trajs=sample_trajs(actions, n)\n",
    "logrews_atomic = get_logrewards(atomic_trajs, sequence)\n",
    "logrews = get_logrewards(trajs, sequence)\n",
    "plt.hist(logrews, bins=30, label='chunk')\n",
    "plt.hist( logrews_atomic , bins=30, label='atomic')\n",
    "plt.legend()\n",
    "print('mean atomic logrew', np.mean(logrews_atomic),'mean chunk logrew' , np.mean(logrews))"
   ]
  },
  {
   "cell_type": "code",
   "execution_count": null,
   "metadata": {},
   "outputs": [],
   "source": []
  }
 ],
 "metadata": {
  "kernelspec": {
   "display_name": "chunk",
   "language": "python",
   "name": "python3"
  },
  "language_info": {
   "codemirror_mode": {
    "name": "ipython",
    "version": 3
   },
   "file_extension": ".py",
   "mimetype": "text/x-python",
   "name": "python",
   "nbconvert_exporter": "python",
   "pygments_lexer": "ipython3",
   "version": "3.10.11"
  }
 },
 "nbformat": 4,
 "nbformat_minor": 2
}
