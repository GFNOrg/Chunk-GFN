{
 "cells": [
  {
   "cell_type": "code",
   "execution_count": 6,
   "metadata": {},
   "outputs": [],
   "source": [
    "import string\n",
    "from tokenizers import Tokenizer\n",
    "from tokenizers.models import BPE, WordPiece\n",
    "from tokenizers.trainers import BpeTrainer, WordPieceTrainer"
   ]
  },
  {
   "cell_type": "code",
   "execution_count": 4,
   "metadata": {},
   "outputs": [],
   "source": [
    "ALPHABET = [\n",
    "    '[#N]', '[N+1]', '[Br]', '[NH2+1]', '[NH1]',\n",
    "    '[/C]', '[O-1]', '[=Ring1]', '[P]', '[NH1+1]',\n",
    "    '[#C]', '[Cl]', '[#Branch2]', '[F]', '[=Branch2]',\n",
    "    '[C@H1]', '[C@@H1]', '[#Branch1]', '[S]', '[=N]',\n",
    "    '[Ring2]', '[Branch2]', '[O]', '[=O]', '[N]',\n",
    "    '[=Branch1]', '[Branch1]', '[Ring1]', '[=C]', '[C]'\n",
    "]"
   ]
  },
  {
   "cell_type": "code",
   "execution_count": 7,
   "metadata": {},
   "outputs": [],
   "source": [
    "atomic_tokens = list(string.ascii_letters)[:len(ALPHABET)]"
   ]
  },
  {
   "cell_type": "code",
   "execution_count": 8,
   "metadata": {},
   "outputs": [
    {
     "name": "stdout",
     "output_type": "stream",
     "text": [
      "\n",
      "\n",
      "\n"
     ]
    }
   ],
   "source": [
    "vocab_dict = {k: i for i, k in enumerate([\"a\", \"b\", \"A\", \"b\"])}\n",
    "tokenizer = Tokenizer(BPE(vocab_dict, [], unk_token=\"[UNK]\"))\n",
    "\n",
    "action_strings = [\n",
    "    \"aaaaaAAAAAb\",\n",
    "    'aaAAAAbb',\n",
    "    \"aAAAAAb\",\n",
    "    \"bbAAAAaaa\",\n",
    "    \"bbbbaaAAA\",\n",
    "    \"bbAAAAAbbaa\",\n",
    "    \"babababAaAaAa\"\n",
    "]\n",
    "vocab_size = 4 + 20\n",
    "trainer = BpeTrainer(vocab_size=vocab_size)\n",
    "tokenizer.train_from_iterator(action_strings, trainer=trainer)"
   ]
  },
  {
   "cell_type": "code",
   "execution_count": null,
   "metadata": {},
   "outputs": [],
   "source": [
    "tokenizer.get_vocab().keys()"
   ]
  }
 ],
 "metadata": {
  "kernelspec": {
   "display_name": "ai_scientist",
   "language": "python",
   "name": "python3"
  },
  "language_info": {
   "codemirror_mode": {
    "name": "ipython",
    "version": 3
   },
   "file_extension": ".py",
   "mimetype": "text/x-python",
   "name": "python",
   "nbconvert_exporter": "python",
   "pygments_lexer": "ipython3",
   "version": "3.10.11"
  }
 },
 "nbformat": 4,
 "nbformat_minor": 2
}
